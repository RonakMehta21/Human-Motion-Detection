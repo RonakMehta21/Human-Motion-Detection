{
 "cells": [
  {
   "cell_type": "code",
   "execution_count": 4,
   "metadata": {},
   "outputs": [
    {
     "data": {
      "text/plain": [
       "(221, b'2.0.0 closing connection h130sm52302349pfc.98 - gsmtp')"
      ]
     },
     "execution_count": 4,
     "metadata": {},
     "output_type": "execute_result"
    }
   ],
   "source": [
    "import os\n",
    "import smtplib\n",
    "from email.mime.text import MIMEText\n",
    "from email.mime.image import MIMEImage\n",
    "from email.mime.multipart import MIMEMultipart\n",
    "\n",
    "smtp_ssl_host = 'smtp.gmail.com'  # smtp.mail.yahoo.com\n",
    "smtp_ssl_port = 465\n",
    "username = 'rakeshranjan8792@gmail.com'\n",
    "password = 'rakranjan'\n",
    "sender = 'rakeshranjan8792@gmail.com'\n",
    "targets = ['rakesh.emperor@gmail.com']\n",
    "\n",
    "msg = MIMEMultipart()\n",
    "msg['Subject'] = 'I have a picture'\n",
    "msg['From'] = sender\n",
    "msg['To'] = ', '.join(targets)\n",
    "\n",
    "txt = MIMEText('I just bought a new camera.')\n",
    "msg.attach(txt)\n",
    "\n",
    "filepath = \"./img/yolo.jpg\"\n",
    "with open(filepath, 'rb') as f:\n",
    "    img = MIMEImage(f.read())\n",
    "\n",
    "img.add_header('Content-Disposition',\n",
    "               'attachment',\n",
    "               filename=os.path.basename(filepath))\n",
    "msg.attach(img)\n",
    "\n",
    "server = smtplib.SMTP_SSL(smtp_ssl_host, smtp_ssl_port)\n",
    "server.login(username, password)\n",
    "server.sendmail(sender, targets, msg.as_string())\n",
    "server.quit()"
   ]
  },
  {
   "cell_type": "code",
   "execution_count": null,
   "metadata": {
    "collapsed": true
   },
   "outputs": [],
   "source": []
  }
 ],
 "metadata": {
  "kernelspec": {
   "display_name": "Python 3",
   "language": "python",
   "name": "python3"
  },
  "language_info": {
   "codemirror_mode": {
    "name": "ipython",
    "version": 3
   },
   "file_extension": ".py",
   "mimetype": "text/x-python",
   "name": "python",
   "nbconvert_exporter": "python",
   "pygments_lexer": "ipython3",
   "version": "3.6.1"
  }
 },
 "nbformat": 4,
 "nbformat_minor": 2
}
